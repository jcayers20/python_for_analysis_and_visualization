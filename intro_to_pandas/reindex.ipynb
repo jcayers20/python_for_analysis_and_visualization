{
 "cells": [
  {
   "cell_type": "code",
   "execution_count": 2,
   "id": "ec578a27",
   "metadata": {},
   "outputs": [],
   "source": [
    "import numpy as np\n",
    "import pandas as pd\n",
    "from pandas import Series, DataFrame\n",
    "\n",
    "from numpy.random import randn"
   ]
  },
  {
   "cell_type": "code",
   "execution_count": 12,
   "id": "a70a8167",
   "metadata": {},
   "outputs": [
    {
     "data": {
      "text/plain": [
       "0        USA\n",
       "5     Mexico\n",
       "10    Canada\n",
       "dtype: object"
      ]
     },
     "execution_count": 12,
     "metadata": {},
     "output_type": "execute_result"
    }
   ],
   "source": [
    "ser1 = Series(['USA', 'Mexico', 'Canada'], index = [0, 5, 10])\n",
    "ser1"
   ]
  },
  {
   "cell_type": "code",
   "execution_count": 13,
   "id": "30dbd754",
   "metadata": {},
   "outputs": [
    {
     "data": {
      "text/plain": [
       "range(0, 15)"
      ]
     },
     "execution_count": 13,
     "metadata": {},
     "output_type": "execute_result"
    }
   ],
   "source": [
    "ranger = range(15)\n",
    "ranger"
   ]
  },
  {
   "cell_type": "code",
   "execution_count": 18,
   "id": "f4539c6c",
   "metadata": {},
   "outputs": [
    {
     "data": {
      "text/plain": [
       "0        USA\n",
       "1        USA\n",
       "2        USA\n",
       "3        USA\n",
       "4        USA\n",
       "5     Mexico\n",
       "6     Mexico\n",
       "7     Mexico\n",
       "8     Mexico\n",
       "9     Mexico\n",
       "10    Canada\n",
       "11    Canada\n",
       "12    Canada\n",
       "13    Canada\n",
       "14    Canada\n",
       "dtype: object"
      ]
     },
     "execution_count": 18,
     "metadata": {},
     "output_type": "execute_result"
    }
   ],
   "source": [
    "ser1.reindex(ranger, method = 'ffill')"
   ]
  },
  {
   "cell_type": "code",
   "execution_count": 19,
   "id": "b1ae2d3a",
   "metadata": {},
   "outputs": [
    {
     "data": {
      "text/plain": [
       "0        USA\n",
       "1     Mexico\n",
       "2     Mexico\n",
       "3     Mexico\n",
       "4     Mexico\n",
       "5     Mexico\n",
       "6     Canada\n",
       "7     Canada\n",
       "8     Canada\n",
       "9     Canada\n",
       "10    Canada\n",
       "11       NaN\n",
       "12       NaN\n",
       "13       NaN\n",
       "14       NaN\n",
       "dtype: object"
      ]
     },
     "execution_count": 19,
     "metadata": {},
     "output_type": "execute_result"
    }
   ],
   "source": [
    "ser1.reindex(ranger, method = 'bfill')"
   ]
  },
  {
   "cell_type": "code",
   "execution_count": 20,
   "id": "cc713dc6",
   "metadata": {},
   "outputs": [
    {
     "data": {
      "text/plain": [
       "0        USA\n",
       "1        USA\n",
       "2        USA\n",
       "3     Mexico\n",
       "4     Mexico\n",
       "5     Mexico\n",
       "6     Mexico\n",
       "7     Mexico\n",
       "8     Canada\n",
       "9     Canada\n",
       "10    Canada\n",
       "11    Canada\n",
       "12    Canada\n",
       "13    Canada\n",
       "14    Canada\n",
       "dtype: object"
      ]
     },
     "execution_count": 20,
     "metadata": {},
     "output_type": "execute_result"
    }
   ],
   "source": [
    "ser1.reindex(ranger, method = 'nearest')"
   ]
  },
  {
   "cell_type": "code",
   "execution_count": 22,
   "id": "10ab6a79",
   "metadata": {},
   "outputs": [
    {
     "data": {
      "text/html": [
       "<div>\n",
       "<style scoped>\n",
       "    .dataframe tbody tr th:only-of-type {\n",
       "        vertical-align: middle;\n",
       "    }\n",
       "\n",
       "    .dataframe tbody tr th {\n",
       "        vertical-align: top;\n",
       "    }\n",
       "\n",
       "    .dataframe thead th {\n",
       "        text-align: right;\n",
       "    }\n",
       "</style>\n",
       "<table border=\"1\" class=\"dataframe\">\n",
       "  <thead>\n",
       "    <tr style=\"text-align: right;\">\n",
       "      <th></th>\n",
       "      <th>col1</th>\n",
       "      <th>col2</th>\n",
       "      <th>col3</th>\n",
       "      <th>col4</th>\n",
       "      <th>col5</th>\n",
       "    </tr>\n",
       "  </thead>\n",
       "  <tbody>\n",
       "    <tr>\n",
       "      <th>A</th>\n",
       "      <td>-0.535776</td>\n",
       "      <td>2.259466</td>\n",
       "      <td>2.204023</td>\n",
       "      <td>0.318651</td>\n",
       "      <td>-0.936973</td>\n",
       "    </tr>\n",
       "    <tr>\n",
       "      <th>B</th>\n",
       "      <td>-0.784120</td>\n",
       "      <td>-1.389645</td>\n",
       "      <td>0.781434</td>\n",
       "      <td>-0.312579</td>\n",
       "      <td>-0.407787</td>\n",
       "    </tr>\n",
       "    <tr>\n",
       "      <th>D</th>\n",
       "      <td>1.680657</td>\n",
       "      <td>1.437163</td>\n",
       "      <td>-2.019127</td>\n",
       "      <td>-0.110247</td>\n",
       "      <td>0.505731</td>\n",
       "    </tr>\n",
       "    <tr>\n",
       "      <th>E</th>\n",
       "      <td>0.887912</td>\n",
       "      <td>1.438753</td>\n",
       "      <td>1.525555</td>\n",
       "      <td>0.055102</td>\n",
       "      <td>-1.112961</td>\n",
       "    </tr>\n",
       "    <tr>\n",
       "      <th>F</th>\n",
       "      <td>-1.258249</td>\n",
       "      <td>-0.859609</td>\n",
       "      <td>-0.023644</td>\n",
       "      <td>0.464438</td>\n",
       "      <td>0.119936</td>\n",
       "    </tr>\n",
       "  </tbody>\n",
       "</table>\n",
       "</div>"
      ],
      "text/plain": [
       "       col1      col2      col3      col4      col5\n",
       "A -0.535776  2.259466  2.204023  0.318651 -0.936973\n",
       "B -0.784120 -1.389645  0.781434 -0.312579 -0.407787\n",
       "D  1.680657  1.437163 -2.019127 -0.110247  0.505731\n",
       "E  0.887912  1.438753  1.525555  0.055102 -1.112961\n",
       "F -1.258249 -0.859609 -0.023644  0.464438  0.119936"
      ]
     },
     "execution_count": 22,
     "metadata": {},
     "output_type": "execute_result"
    }
   ],
   "source": [
    "dframe = DataFrame(randn(25).reshape((5, 5)), index = ['A', 'B', 'D', 'E', 'F'], columns = ['col1', 'col2', 'col3', 'col4', 'col5'])\n",
    "dframe"
   ]
  },
  {
   "cell_type": "code",
   "execution_count": 32,
   "id": "83725ba0",
   "metadata": {},
   "outputs": [
    {
     "data": {
      "text/html": [
       "<div>\n",
       "<style scoped>\n",
       "    .dataframe tbody tr th:only-of-type {\n",
       "        vertical-align: middle;\n",
       "    }\n",
       "\n",
       "    .dataframe tbody tr th {\n",
       "        vertical-align: top;\n",
       "    }\n",
       "\n",
       "    .dataframe thead th {\n",
       "        text-align: right;\n",
       "    }\n",
       "</style>\n",
       "<table border=\"1\" class=\"dataframe\">\n",
       "  <thead>\n",
       "    <tr style=\"text-align: right;\">\n",
       "      <th></th>\n",
       "      <th>col1</th>\n",
       "      <th>col2</th>\n",
       "      <th>col3</th>\n",
       "      <th>col4</th>\n",
       "      <th>col5</th>\n",
       "    </tr>\n",
       "  </thead>\n",
       "  <tbody>\n",
       "    <tr>\n",
       "      <th>A</th>\n",
       "      <td>-0.535776</td>\n",
       "      <td>2.259466</td>\n",
       "      <td>2.204023</td>\n",
       "      <td>0.318651</td>\n",
       "      <td>-0.936973</td>\n",
       "    </tr>\n",
       "    <tr>\n",
       "      <th>B</th>\n",
       "      <td>-0.784120</td>\n",
       "      <td>-1.389645</td>\n",
       "      <td>0.781434</td>\n",
       "      <td>-0.312579</td>\n",
       "      <td>-0.407787</td>\n",
       "    </tr>\n",
       "    <tr>\n",
       "      <th>C</th>\n",
       "      <td>NaN</td>\n",
       "      <td>NaN</td>\n",
       "      <td>NaN</td>\n",
       "      <td>NaN</td>\n",
       "      <td>NaN</td>\n",
       "    </tr>\n",
       "    <tr>\n",
       "      <th>D</th>\n",
       "      <td>1.680657</td>\n",
       "      <td>1.437163</td>\n",
       "      <td>-2.019127</td>\n",
       "      <td>-0.110247</td>\n",
       "      <td>0.505731</td>\n",
       "    </tr>\n",
       "    <tr>\n",
       "      <th>E</th>\n",
       "      <td>0.887912</td>\n",
       "      <td>1.438753</td>\n",
       "      <td>1.525555</td>\n",
       "      <td>0.055102</td>\n",
       "      <td>-1.112961</td>\n",
       "    </tr>\n",
       "    <tr>\n",
       "      <th>F</th>\n",
       "      <td>-1.258249</td>\n",
       "      <td>-0.859609</td>\n",
       "      <td>-0.023644</td>\n",
       "      <td>0.464438</td>\n",
       "      <td>0.119936</td>\n",
       "    </tr>\n",
       "  </tbody>\n",
       "</table>\n",
       "</div>"
      ],
      "text/plain": [
       "       col1      col2      col3      col4      col5\n",
       "A -0.535776  2.259466  2.204023  0.318651 -0.936973\n",
       "B -0.784120 -1.389645  0.781434 -0.312579 -0.407787\n",
       "C       NaN       NaN       NaN       NaN       NaN\n",
       "D  1.680657  1.437163 -2.019127 -0.110247  0.505731\n",
       "E  0.887912  1.438753  1.525555  0.055102 -1.112961\n",
       "F -1.258249 -0.859609 -0.023644  0.464438  0.119936"
      ]
     },
     "execution_count": 32,
     "metadata": {},
     "output_type": "execute_result"
    }
   ],
   "source": [
    "dframe.reindex(['A', 'B', 'C', 'D', 'E', 'F'])"
   ]
  },
  {
   "cell_type": "code",
   "execution_count": 34,
   "id": "02f4fbe1",
   "metadata": {},
   "outputs": [
    {
     "data": {
      "text/html": [
       "<div>\n",
       "<style scoped>\n",
       "    .dataframe tbody tr th:only-of-type {\n",
       "        vertical-align: middle;\n",
       "    }\n",
       "\n",
       "    .dataframe tbody tr th {\n",
       "        vertical-align: top;\n",
       "    }\n",
       "\n",
       "    .dataframe thead th {\n",
       "        text-align: right;\n",
       "    }\n",
       "</style>\n",
       "<table border=\"1\" class=\"dataframe\">\n",
       "  <thead>\n",
       "    <tr style=\"text-align: right;\">\n",
       "      <th></th>\n",
       "      <th>col1</th>\n",
       "      <th>col2</th>\n",
       "      <th>col3</th>\n",
       "      <th>col4</th>\n",
       "      <th>col5</th>\n",
       "      <th>col6</th>\n",
       "    </tr>\n",
       "  </thead>\n",
       "  <tbody>\n",
       "    <tr>\n",
       "      <th>A</th>\n",
       "      <td>-0.535776</td>\n",
       "      <td>2.259466</td>\n",
       "      <td>2.204023</td>\n",
       "      <td>0.318651</td>\n",
       "      <td>-0.936973</td>\n",
       "      <td>NaN</td>\n",
       "    </tr>\n",
       "    <tr>\n",
       "      <th>B</th>\n",
       "      <td>-0.784120</td>\n",
       "      <td>-1.389645</td>\n",
       "      <td>0.781434</td>\n",
       "      <td>-0.312579</td>\n",
       "      <td>-0.407787</td>\n",
       "      <td>NaN</td>\n",
       "    </tr>\n",
       "    <tr>\n",
       "      <th>D</th>\n",
       "      <td>1.680657</td>\n",
       "      <td>1.437163</td>\n",
       "      <td>-2.019127</td>\n",
       "      <td>-0.110247</td>\n",
       "      <td>0.505731</td>\n",
       "      <td>NaN</td>\n",
       "    </tr>\n",
       "    <tr>\n",
       "      <th>E</th>\n",
       "      <td>0.887912</td>\n",
       "      <td>1.438753</td>\n",
       "      <td>1.525555</td>\n",
       "      <td>0.055102</td>\n",
       "      <td>-1.112961</td>\n",
       "      <td>NaN</td>\n",
       "    </tr>\n",
       "    <tr>\n",
       "      <th>F</th>\n",
       "      <td>-1.258249</td>\n",
       "      <td>-0.859609</td>\n",
       "      <td>-0.023644</td>\n",
       "      <td>0.464438</td>\n",
       "      <td>0.119936</td>\n",
       "      <td>NaN</td>\n",
       "    </tr>\n",
       "  </tbody>\n",
       "</table>\n",
       "</div>"
      ],
      "text/plain": [
       "       col1      col2      col3      col4      col5  col6\n",
       "A -0.535776  2.259466  2.204023  0.318651 -0.936973   NaN\n",
       "B -0.784120 -1.389645  0.781434 -0.312579 -0.407787   NaN\n",
       "D  1.680657  1.437163 -2.019127 -0.110247  0.505731   NaN\n",
       "E  0.887912  1.438753  1.525555  0.055102 -1.112961   NaN\n",
       "F -1.258249 -0.859609 -0.023644  0.464438  0.119936   NaN"
      ]
     },
     "execution_count": 34,
     "metadata": {},
     "output_type": "execute_result"
    }
   ],
   "source": [
    "new_columns = ['col1', 'col2', 'col3', 'col4', 'col5', 'col6']\n",
    "dframe.reindex(columns = new_columns)"
   ]
  },
  {
   "cell_type": "code",
   "execution_count": null,
   "id": "8ae28610",
   "metadata": {},
   "outputs": [],
   "source": []
  }
 ],
 "metadata": {
  "kernelspec": {
   "display_name": "Python 3 (ipykernel)",
   "language": "python",
   "name": "python3"
  },
  "language_info": {
   "codemirror_mode": {
    "name": "ipython",
    "version": 3
   },
   "file_extension": ".py",
   "mimetype": "text/x-python",
   "name": "python",
   "nbconvert_exporter": "python",
   "pygments_lexer": "ipython3",
   "version": "3.9.7"
  }
 },
 "nbformat": 4,
 "nbformat_minor": 5
}
